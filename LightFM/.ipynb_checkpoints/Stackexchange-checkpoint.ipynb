{
 "cells": [
  {
   "cell_type": "markdown",
   "id": "fcadf90d-f21b-4f27-b5ee-fbd65d106c49",
   "metadata": {},
   "source": [
    "### Pure collaborative filtering model"
   ]
  },
  {
   "cell_type": "code",
   "execution_count": 15,
   "id": "f43b0003-f611-47b0-b014-50a256496186",
   "metadata": {},
   "outputs": [],
   "source": [
    "import numpy as np\n",
    "import pandas as pd\n",
    "from lightfm.datasets import fetch_stackexchange\n",
    "\n",
    "data = fetch_stackexchange(\n",
    "    'crossvalidated',\n",
    "    test_set_fraction=0.1,\n",
    "    indicator_features=False,\n",
    "    tag_features=True\n",
    "    )\n",
    "\n",
    "train = data['train']\n",
    "test = data['test']"
   ]
  },
  {
   "cell_type": "code",
   "execution_count": 2,
   "id": "b5ba1681-5e79-44c0-b02a-1edbf27084b9",
   "metadata": {},
   "outputs": [
    {
     "name": "stdout",
     "output_type": "stream",
     "text": [
      "The dataset has 3213 users and 72360 items, with 4453 interactions in the test and 57795 interactions in the training set.\n"
     ]
    }
   ],
   "source": [
    "print('The dataset has %s users and %s items, '\n",
    "      'with %s interactions in the test and %s interactions in the training set.'\n",
    "      % (train.shape[0], train.shape[1], test.getnnz(), train.getnnz()))"
   ]
  },
  {
   "cell_type": "code",
   "execution_count": 3,
   "id": "0a2deea5-42fd-4faf-83e1-9a5df3889377",
   "metadata": {},
   "outputs": [
    {
     "name": "stdout",
     "output_type": "stream",
     "text": [
      "CPU times: user 588 ms, sys: 12 ms, total: 600 ms\n",
      "Wall time: 334 ms\n"
     ]
    }
   ],
   "source": [
    "# Import the model\n",
    "from lightfm import LightFM\n",
    "\n",
    "# Set the number of threads; you can increase this\n",
    "# if you have more physical cores available.\n",
    "NUM_THREADS = 2\n",
    "NUM_COMPONENTS = 30\n",
    "NUM_EPOCHS = 3\n",
    "ITEM_ALPHA = 1e-6\n",
    "\n",
    "# Let's fit a WARP model: these generally have the best performance.\n",
    "model = LightFM(\n",
    "    loss='warp',\n",
    "    item_alpha=ITEM_ALPHA,\n",
    "    no_components=NUM_COMPONENTS\n",
    "    )\n",
    "\n",
    "# Run 3 epochs and time it.\n",
    "%time model = model.fit(train, epochs=NUM_EPOCHS, num_threads=NUM_THREADS)"
   ]
  },
  {
   "cell_type": "code",
   "execution_count": 4,
   "id": "b0175694-9a34-4fa5-829c-b716d9840aef",
   "metadata": {},
   "outputs": [
    {
     "name": "stdout",
     "output_type": "stream",
     "text": [
      "Collaborative filtering train AUC: 0.8903878\n"
     ]
    }
   ],
   "source": [
    "# Import the evaluation routines\n",
    "from lightfm.evaluation import auc_score\n",
    "\n",
    "# Compute and print the AUC score\n",
    "train_auc = auc_score(model, train, num_threads=NUM_THREADS).mean()\n",
    "print('Collaborative filtering train AUC: %s' % train_auc)"
   ]
  },
  {
   "cell_type": "code",
   "execution_count": 5,
   "id": "7fa2190b-8875-4161-af12-9268572b2932",
   "metadata": {},
   "outputs": [
    {
     "name": "stdout",
     "output_type": "stream",
     "text": [
      "Collaborative filtering test AUC: 0.4083192\n"
     ]
    }
   ],
   "source": [
    "# We pass in the train interactions to exclude them from predictions.\n",
    "# This is to simulate a recommender system where we do not\n",
    "# re-recommend things the user has already interacted with in the train\n",
    "# set.\n",
    "test_auc = auc_score(model, test, train_interactions=train, num_threads=NUM_THREADS).mean()\n",
    "print('Collaborative filtering test AUC: %s' % test_auc)"
   ]
  },
  {
   "cell_type": "code",
   "execution_count": 6,
   "id": "05cdfc04-aff4-46a8-8465-634fdbce0164",
   "metadata": {},
   "outputs": [
    {
     "name": "stdout",
     "output_type": "stream",
     "text": [
      "Collaborative filtering test AUC: 0.53378624\n"
     ]
    }
   ],
   "source": [
    "# Set biases to zero\n",
    "model.item_biases *= 0.0\n",
    "\n",
    "test_auc = auc_score(model, test, train_interactions=train, num_threads=NUM_THREADS).mean()\n",
    "print('Collaborative filtering test AUC: %s' % test_auc)"
   ]
  },
  {
   "cell_type": "markdown",
   "id": "9a46641e-2907-44b7-9441-f52152a9b3f0",
   "metadata": {},
   "source": [
    "### Hybrid model"
   ]
  },
  {
   "cell_type": "code",
   "execution_count": 7,
   "id": "69572ff7-75a9-4e70-b7be-6ba0befa2f9b",
   "metadata": {},
   "outputs": [
    {
     "name": "stdout",
     "output_type": "stream",
     "text": [
      "There are 1246 distinct tags, with values like ['bayesian', 'prior', 'elicitation'].\n"
     ]
    }
   ],
   "source": [
    "item_features = data['item_features']\n",
    "tag_labels = data['item_feature_labels']\n",
    "\n",
    "print('There are %s distinct tags, with values like %s.' % (item_features.shape[1], tag_labels[:3].tolist()))"
   ]
  },
  {
   "cell_type": "code",
   "execution_count": 8,
   "id": "d56c07ef-70af-43d3-957e-3819ac5f164b",
   "metadata": {},
   "outputs": [],
   "source": [
    "# Define a new model instance\n",
    "model = LightFM(\n",
    "    loss='warp',\n",
    "    item_alpha=ITEM_ALPHA,\n",
    "    no_components=NUM_COMPONENTS\n",
    "    )\n",
    "\n",
    "# Fit the hybrid model. Note that this time, we pass\n",
    "# in the item features matrix.\n",
    "model = model.fit(\n",
    "    train,\n",
    "    item_features=item_features,\n",
    "    epochs=NUM_EPOCHS,\n",
    "    num_threads=NUM_THREADS\n",
    "    )"
   ]
  },
  {
   "cell_type": "code",
   "execution_count": 17,
   "id": "c992ed63-33c0-4253-a591-a2e47c44ab75",
   "metadata": {},
   "outputs": [
    {
     "name": "stdout",
     "output_type": "stream",
     "text": [
      "1\n",
      "2\n",
      "3\n",
      "4\n",
      "5\n",
      "6\n",
      "7\n",
      "8\n",
      "9\n"
     ]
    }
   ],
   "source": [
    "results = []\n",
    "\n",
    "for i in range(1, 10):\n",
    "    print(i)\n",
    "    \n",
    "    model = model.fit(\n",
    "        train,\n",
    "        item_features=item_features,\n",
    "        epochs=i,\n",
    "        num_threads=NUM_THREADS\n",
    "        )\n",
    "\n",
    "    train_auc = auc_score(\n",
    "        model,\n",
    "        train,\n",
    "        item_features=item_features,\n",
    "        num_threads=NUM_THREADS\n",
    "        ).mean()\n",
    "    \n",
    "    results.append([i, train_auc, 'train_auc'])\n",
    "    \n",
    "    test_auc = auc_score(\n",
    "        model,\n",
    "        test,\n",
    "        train_interactions=train,\n",
    "        item_features=item_features,\n",
    "        num_threads=NUM_THREADS\n",
    "        ).mean()\n",
    "    \n",
    "    results.append([i, test_auc, 'test_auc'])\n"
   ]
  },
  {
   "cell_type": "code",
   "execution_count": 23,
   "id": "0500130c-4be8-4309-abad-bb87e70d6c29",
   "metadata": {},
   "outputs": [
    {
     "data": {
      "text/plain": [
       "<AxesSubplot:xlabel='num_epochs', ylabel='auc'>"
      ]
     },
     "execution_count": 23,
     "metadata": {},
     "output_type": "execute_result"
    },
    {
     "data": {
      "image/png": "[encoded data removed]",
      "text/plain": [
       "<Figure size 432x288 with 1 Axes>"
      ]
     },
     "metadata": {
      "needs_background": "light"
     },
     "output_type": "display_data"
    }
   ],
   "source": [
    "results = pd.DataFrame(results)\n",
    "results.columns = ['num_epochs', 'auc', 'type']\n",
    "\n",
    "import seaborn as sns\n",
    "sns.lineplot(data=results, x='num_epochs', y='auc', hue='type')"
   ]
  },
  {
   "cell_type": "code",
   "execution_count": 9,
   "id": "cd239685-2735-46ab-a75e-d2c60a9f87e1",
   "metadata": {},
   "outputs": [
    {
     "name": "stdout",
     "output_type": "stream",
     "text": [
      "Hybrid training set AUC: 0.85441786\n"
     ]
    }
   ],
   "source": [
    "# Don't forget the pass in the item features again!\n",
    "train_auc = auc_score(\n",
    "    model,\n",
    "    train,\n",
    "    item_features=item_features,\n",
    "    num_threads=NUM_THREADS\n",
    "    ).mean()\n",
    "\n",
    "print('Hybrid training set AUC: %s' % train_auc)"
   ]
  },
  {
   "cell_type": "code",
   "execution_count": 10,
   "id": "97261fc7-f2ac-409c-984d-518174e31336",
   "metadata": {},
   "outputs": [
    {
     "name": "stdout",
     "output_type": "stream",
     "text": [
      "Hybrid test set AUC: 0.73115593\n"
     ]
    }
   ],
   "source": [
    "test_auc = auc_score(\n",
    "    model,\n",
    "    test,\n",
    "    train_interactions=train,\n",
    "    item_features=item_features,\n",
    "    num_threads=NUM_THREADS\n",
    "    ).mean()\n",
    "\n",
    "print('Hybrid test set AUC: %s' % test_auc)"
   ]
  },
  {
   "cell_type": "code",
   "execution_count": 11,
   "id": "ecf2d6d5-edfd-4c66-9301-28c0633f3005",
   "metadata": {},
   "outputs": [
    {
     "name": "stdout",
     "output_type": "stream",
     "text": [
      "Most similar tags for bayesian: ['gibbs' 'metropolis-hastings' 'mcmc']\n",
      "Most similar tags for regression: ['multiple-regression' 'probit' 'regression-coefficients']\n",
      "Most similar tags for survival: ['cox-model' 'extremal-dependence' 'epidemiology']\n"
     ]
    }
   ],
   "source": [
    "def get_similar_tags(model, tag_id):\n",
    "    # Define similarity as the cosine of the angle\n",
    "    # between the tag latent vectors\n",
    "\n",
    "    # Normalize the vectors to unit length\n",
    "    tag_embeddings = (model.item_embeddings.T\n",
    "                      / np.linalg.norm(model.item_embeddings, axis=1)).T\n",
    "\n",
    "    query_embedding = tag_embeddings[tag_id]\n",
    "    similarity = np.dot(tag_embeddings, query_embedding)\n",
    "    most_similar = np.argsort(-similarity)[1:4]\n",
    "\n",
    "    return most_similar\n",
    "\n",
    "\n",
    "for tag in (u'bayesian', u'regression', u'survival'):\n",
    "    tag_id = tag_labels.tolist().index(tag)\n",
    "    print('Most similar tags for %s: %s' % (tag_labels[tag_id],\n",
    "                                            tag_labels[get_similar_tags(model, tag_id)]))"
   ]
  },
  {
   "cell_type": "code",
   "execution_count": null,
   "id": "8626e89e-8a04-4faf-976b-31c34ca40aa5",
   "metadata": {},
   "outputs": [],
   "source": []
  },
  {
   "cell_type": "code",
   "execution_count": null,
   "id": "96b090ed-99ac-4263-813f-e9caf4b24ceb",
   "metadata": {},
   "outputs": [],
   "source": []
  },
  {
   "cell_type": "code",
   "execution_count": null,
   "id": "409214c8-7974-4191-b7cf-80e7dad02e9d",
   "metadata": {},
   "outputs": [],
   "source": []
  },
  {
   "cell_type": "code",
   "execution_count": null,
   "id": "8383651d-5133-4e73-aec0-9d1f22cd875f",
   "metadata": {},
   "outputs": [],
   "source": []
  },
  {
   "cell_type": "code",
   "execution_count": null,
   "id": "4b673028-e0b1-4397-b1df-b2232e56cbdc",
   "metadata": {},
   "outputs": [],
   "source": []
  },
  {
   "cell_type": "code",
   "execution_count": null,
   "id": "b23ca54c-3aa6-433b-bf64-f62e7c91b893",
   "metadata": {},
   "outputs": [],
   "source": []
  },
  {
   "cell_type": "code",
   "execution_count": null,
   "id": "00582266-98cd-4155-b89d-c16cfa4b4249",
   "metadata": {},
   "outputs": [],
   "source": []
  },
  {
   "cell_type": "code",
   "execution_count": null,
   "id": "daf30646-9f41-498f-8cc1-562210bbf185",
   "metadata": {},
   "outputs": [],
   "source": []
  }
 ],
 "metadata": {
  "kernelspec": {
   "display_name": "Python 3",
   "language": "python",
   "name": "python3"
  },
  "language_info": {
   "codemirror_mode": {
    "name": "ipython",
    "version": 3
   },
   "file_extension": ".py",
   "mimetype": "text/x-python",
   "name": "python",
   "nbconvert_exporter": "python",
   "pygments_lexer": "ipython3",
   "version": "3.9.7"
  }
 },
 "nbformat": 4,
 "nbformat_minor": 5
}
