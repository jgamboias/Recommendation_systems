{
 "cells": [
  {
   "cell_type": "code",
   "execution_count": 43,
   "id": "a621da08-381b-4456-9986-ad74c51ebcb9",
   "metadata": {},
   "outputs": [],
   "source": [
    "import numpy as np\n",
    "from lightfm.datasets import fetch_movielens\n",
    "from lightfm import LightFM\n",
    "from lightfm.evaluation import precision_at_k, reciprocal_rank\n",
    "\n",
    "data = fetch_movielens()"
   ]
  },
  {
   "cell_type": "code",
   "execution_count": 44,
   "id": "f30a862d-cb32-43ec-a875-81db1eba672a",
   "metadata": {},
   "outputs": [
    {
     "name": "stdout",
     "output_type": "stream",
     "text": [
      "<943x1682 sparse matrix of type '<class 'numpy.int32'>'\n",
      "\twith 90570 stored elements in COOrdinate format>\n",
      "<943x1682 sparse matrix of type '<class 'numpy.int32'>'\n",
      "\twith 9430 stored elements in COOrdinate format>\n"
     ]
    }
   ],
   "source": [
    "print(repr(data['train']))\n",
    "print(repr(data['test']))"
   ]
  },
  {
   "cell_type": "code",
   "execution_count": 75,
   "id": "2a399bd2-cb70-4904-b274-29b8450d3871",
   "metadata": {},
   "outputs": [
    {
     "name": "stdout",
     "output_type": "stream",
     "text": [
      "CPU times: user 2.82 s, sys: 0 ns, total: 2.82 s\n",
      "Wall time: 1.45 s\n",
      "Train precision: 0.67\n",
      "Test precision: 0.12\n",
      "Train reciprocal rank: 0.83\n",
      "Test reciprocal rank: 0.28\n"
     ]
    }
   ],
   "source": [
    "model = LightFM(loss='warp')\n",
    "%time model.fit(data['train'], epochs=30, num_threads=2)\n",
    "\n",
    "print(\"Train precision: %.2f\" % precision_at_k(model, data['train'], k=5).mean())\n",
    "print(\"Test precision: %.2f\" % precision_at_k(model, data['test'], k=5).mean())\n",
    "\n",
    "print(\"Train reciprocal rank: %.2f\" % reciprocal_rank(model, data['train']).mean())\n",
    "print(\"Test reciprocal rank: %.2f\" % reciprocal_rank(model, data['test']).mean())"
   ]
  },
  {
   "cell_type": "code",
   "execution_count": 74,
   "id": "13765053-4364-45d0-9c8a-adce7b2f0310",
   "metadata": {},
   "outputs": [
    {
     "name": "stdout",
     "output_type": "stream",
     "text": [
      "CPU times: user 2.62 s, sys: 0 ns, total: 2.62 s\n",
      "Wall time: 1.36 s\n",
      "Train precision: 0.67\n",
      "Test precision: 0.10\n",
      "Train reciprocal rank: 0.84\n",
      "Test reciprocal rank: 0.24\n"
     ]
    }
   ],
   "source": [
    "model = LightFM(loss='bpr')\n",
    "%time model.fit(data['train'], epochs=30, num_threads=2)\n",
    "\n",
    "print(\"Train precision: %.2f\" % precision_at_k(model, data['train'], k=5).mean())\n",
    "print(\"Test precision: %.2f\" % precision_at_k(model, data['test'], k=5).mean())\n",
    "\n",
    "print(\"Train reciprocal rank: %.2f\" % reciprocal_rank(model, data['train']).mean())\n",
    "print(\"Test reciprocal rank: %.2f\" % reciprocal_rank(model, data['test']).mean())"
   ]
  },
  {
   "cell_type": "code",
   "execution_count": 6,
   "id": "2a151319-4fe3-4985-a54d-a0deb2e8fa57",
   "metadata": {},
   "outputs": [
    {
     "name": "stdout",
     "output_type": "stream",
     "text": [
      "User 3\n",
      "     Known positives:\n",
      "        Seven (Se7en) (1995)\n",
      "        Indiana Jones and the Last Crusade (1989)\n",
      "        Contact (1997)\n",
      "     Recommended:\n",
      "        Air Force One (1997)\n",
      "        Contact (1997)\n",
      "        Conspiracy Theory (1997)\n",
      "User 25\n",
      "     Known positives:\n",
      "        Toy Story (1995)\n",
      "        Twelve Monkeys (1995)\n",
      "        Dead Man Walking (1995)\n",
      "     Recommended:\n",
      "        Fargo (1996)\n",
      "        Trainspotting (1996)\n",
      "        Scream (1996)\n",
      "User 450\n",
      "     Known positives:\n",
      "        Kolya (1996)\n",
      "        Devil's Own, The (1997)\n",
      "        Contact (1997)\n",
      "     Recommended:\n",
      "        Air Force One (1997)\n",
      "        Cop Land (1997)\n",
      "        G.I. Jane (1997)\n"
     ]
    }
   ],
   "source": [
    "def sample_recommendation(model, data, user_ids):\n",
    "\n",
    "\n",
    "    n_users, n_items = data['train'].shape\n",
    "\n",
    "    for user_id in user_ids:\n",
    "        known_positives = data['item_labels'][data['train'].tocsr()[user_id].indices]\n",
    "\n",
    "        scores = model.predict(user_id, np.arange(n_items))\n",
    "        top_items = data['item_labels'][np.argsort(-scores)]\n",
    "\n",
    "        print(\"User %s\" % user_id)\n",
    "        print(\"     Known positives:\")\n",
    "\n",
    "        for x in known_positives[:3]:\n",
    "            print(\"        %s\" % x)\n",
    "\n",
    "        print(\"     Recommended:\")\n",
    "\n",
    "        for x in top_items[:3]:\n",
    "            print(\"        %s\" % x)\n",
    "\n",
    "sample_recommendation(model, data, [3, 25, 450])"
   ]
  }
 ],
 "metadata": {
  "kernelspec": {
   "display_name": "Python 3",
   "language": "python",
   "name": "python3"
  },
  "language_info": {
   "codemirror_mode": {
    "name": "ipython",
    "version": 3
   },
   "file_extension": ".py",
   "mimetype": "text/x-python",
   "name": "python",
   "nbconvert_exporter": "python",
   "pygments_lexer": "ipython3",
   "version": "3.9.7"
  }
 },
 "nbformat": 4,
 "nbformat_minor": 5
}
